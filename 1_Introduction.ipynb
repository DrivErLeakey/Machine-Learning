{
 "cells": [
  {
   "cell_type": "markdown",
   "id": "c4c84d7d",
   "metadata": {},
   "source": [
    "# 自学NLP\n",
    "## 2021.10.1 Leakey\n",
    "# 一、基本元素操作：创建张量"
   ]
  },
  {
   "cell_type": "code",
   "execution_count": 6,
   "id": "f7c503b4",
   "metadata": {},
   "outputs": [
    {
     "name": "stdout",
     "output_type": "stream",
     "text": [
      "hello\n"
     ]
    }
   ],
   "source": [
    "print ('hello')"
   ]
  },
  {
   "cell_type": "markdown",
   "id": "b2ca3cf0",
   "metadata": {},
   "source": [
    "### 1.初始化，引入torch"
   ]
  },
  {
   "cell_type": "code",
   "execution_count": 34,
   "id": "d102500c",
   "metadata": {},
   "outputs": [],
   "source": [
    "from __future__ import print_function\n",
    "import torch"
   ]
  },
  {
   "cell_type": "markdown",
   "id": "07d99e3c",
   "metadata": {},
   "source": [
    "### 2.生成0-1分布随机数"
   ]
  },
  {
   "cell_type": "code",
   "execution_count": 8,
   "id": "aeb80260",
   "metadata": {},
   "outputs": [
    {
     "name": "stdout",
     "output_type": "stream",
     "text": [
      "tensor([[0.4760, 0.3274, 0.7162, 0.2444, 0.3315, 0.8795],\n",
      "        [0.1017, 0.4411, 0.5175, 0.4325, 0.2167, 0.1982],\n",
      "        [0.0230, 0.5669, 0.8069, 0.9705, 0.4764, 0.9564],\n",
      "        [0.6499, 0.0636, 0.0584, 0.6248, 0.3388, 0.5460]])\n"
     ]
    }
   ],
   "source": [
    "x = torch.rand(4,6)\n",
    "print (x)"
   ]
  },
  {
   "cell_type": "markdown",
   "id": "58fdfa99",
   "metadata": {},
   "source": [
    "### 3.生成空矩阵，数据来源于内存空间，无实际意义"
   ]
  },
  {
   "cell_type": "code",
   "execution_count": 9,
   "id": "2bfe7664",
   "metadata": {},
   "outputs": [
    {
     "name": "stdout",
     "output_type": "stream",
     "text": [
      "tensor([[4.0047e-11, 6.4465e-10, 6.2983e-10, 4.3199e-05, 3.1458e-12, 7.9309e+34],\n",
      "        [6.0022e+31, 4.2964e+24, 7.3162e+28, 1.6992e-07, 1.1692e-19, 1.5637e-01],\n",
      "        [2.9560e+21, 8.1997e-10, 5.0782e+31, 4.2964e+24, 1.1632e+33, 1.2734e-14],\n",
      "        [1.8106e+22, 2.4457e-15, 1.3556e-19, 1.8567e-01, 7.2053e+22, 4.7428e+30],\n",
      "        [1.3292e-14, 2.6339e+20, 1.1703e-19, 5.0746e+31, 7.5338e+28, 6.1687e+16],\n",
      "        [6.4890e-07, 2.5609e-12, 4.0046e-11, 6.5635e-07, 1.1704e-19, 1.3563e-19],\n",
      "        [1.3563e-19, 4.5071e+16, 4.0556e-08, 2.5038e-12, 4.0058e-11, 1.7156e-07],\n",
      "        [1.4600e-19, 1.8617e+25, 2.6284e-15, 2.6339e+20, 3.7123e-14, 1.3556e-19],\n",
      "        [1.8567e-01, 7.2053e+22, 4.7428e+30, 1.3292e-14, 2.6339e+20, 1.1819e+22]])\n"
     ]
    }
   ],
   "source": [
    "y = torch.empty(9,6)\n",
    "print (y)"
   ]
  },
  {
   "cell_type": "markdown",
   "id": "5bef327a",
   "metadata": {},
   "source": [
    "### 4.创建数据类型为long的0阵（注意数据局类型的写法）"
   ]
  },
  {
   "cell_type": "code",
   "execution_count": 10,
   "id": "633cff02",
   "metadata": {},
   "outputs": [
    {
     "name": "stdout",
     "output_type": "stream",
     "text": [
      "tensor([[0, 0, 0],\n",
      "        [0, 0, 0],\n",
      "        [0, 0, 0],\n",
      "        [0, 0, 0],\n",
      "        [0, 0, 0]])\n"
     ]
    }
   ],
   "source": [
    " z = torch.zeros(5,3,dtype=torch.long)\n",
    "print(z)"
   ]
  },
  {
   "cell_type": "markdown",
   "id": "5d510b70",
   "metadata": {},
   "source": [
    "### 5.直接用数据创建张量(封装的写法）"
   ]
  },
  {
   "cell_type": "code",
   "execution_count": 11,
   "id": "3eeb9b7b",
   "metadata": {},
   "outputs": [
    {
     "name": "stdout",
     "output_type": "stream",
     "text": [
      "tensor([3.8400, 1.3810])\n"
     ]
    }
   ],
   "source": [
    "array1 = torch.tensor([3.84,1.381])\n",
    "print(array1)"
   ]
  },
  {
   "cell_type": "markdown",
   "id": "8482c25a",
   "metadata": {},
   "source": [
    "### 6.通过已有的张量创建相同尺寸的新张量"
   ]
  },
  {
   "cell_type": "code",
   "execution_count": 12,
   "id": "b7bb5aaf",
   "metadata": {},
   "outputs": [
    {
     "name": "stdout",
     "output_type": "stream",
     "text": [
      "tensor([[1., 1., 1., 1., 1., 1.],\n",
      "        [1., 1., 1., 1., 1., 1.],\n",
      "        [1., 1., 1., 1., 1., 1.],\n",
      "        [1., 1., 1., 1., 1., 1.],\n",
      "        [1., 1., 1., 1., 1., 1.],\n",
      "        [1., 1., 1., 1., 1., 1.]], dtype=torch.float64)\n"
     ]
    }
   ],
   "source": [
    "a2 = x.new_ones(6,6, dtype=torch.double)\n",
    "print(a2)"
   ]
  },
  {
   "cell_type": "markdown",
   "id": "2bd5166c",
   "metadata": {},
   "source": [
    "注意x.new_ones写法,输出\"1.\"表示浮点数"
   ]
  },
  {
   "cell_type": "code",
   "execution_count": 13,
   "id": "a177a738",
   "metadata": {},
   "outputs": [
    {
     "name": "stdout",
     "output_type": "stream",
     "text": [
      "tensor([[-1.1163,  0.1088,  0.4783,  0.9531, -0.6290,  0.1371],\n",
      "        [ 0.1717, -0.9238,  0.5265,  0.2374, -0.0634,  1.5140],\n",
      "        [ 1.0911, -0.4846,  0.2458,  0.3590,  1.4968,  1.1096],\n",
      "        [-0.6876, -1.9983,  0.0220, -1.1601, -0.7821, -0.6985],\n",
      "        [ 0.4961,  1.0327, -0.1889, -0.4654, -0.9942,  2.0424],\n",
      "        [-1.4605,  0.3609,  0.7356,  1.2354,  1.2389, -1.3702]])\n"
     ]
    }
   ],
   "source": [
    "a3 = torch.randn_like(a2, dtype=torch.float)\n",
    "print(a3)"
   ]
  },
  {
   "cell_type": "markdown",
   "id": "165a1566",
   "metadata": {},
   "source": [
    "采用.size得到张量形状（对元组tuple进行操作）"
   ]
  },
  {
   "cell_type": "code",
   "execution_count": 14,
   "id": "b24c88c9",
   "metadata": {},
   "outputs": [
    {
     "name": "stdout",
     "output_type": "stream",
     "text": [
      "torch.Size([6, 6])\n",
      "torch.Size([6, 6])\n"
     ]
    }
   ],
   "source": [
    "print(a2.size())\n",
    "print(a3.size())"
   ]
  },
  {
   "cell_type": "markdown",
   "id": "7a25e5be",
   "metadata": {},
   "source": [
    "# 二、基本运算操作"
   ]
  },
  {
   "cell_type": "markdown",
   "id": "97297400",
   "metadata": {},
   "source": [
    "### 1.加法\n",
    "#### 方法一：直接相加并输出"
   ]
  },
  {
   "cell_type": "code",
   "execution_count": 15,
   "id": "4f3f996a",
   "metadata": {},
   "outputs": [
    {
     "name": "stdout",
     "output_type": "stream",
     "text": [
      "tensor([[0.1212, 0.7274, 0.3749, 0.3305, 0.1213, 0.3909],\n",
      "        [0.1865, 0.1920, 0.2513, 0.4494, 0.4682, 0.5707],\n",
      "        [0.1454, 0.1185, 0.9734, 0.1577, 0.5881, 0.0625],\n",
      "        [0.1865, 0.3332, 0.4500, 0.7370, 0.9112, 0.9969]])\n",
      "tensor([[0.5971, 1.0548, 1.0911, 0.5750, 0.4528, 1.2703],\n",
      "        [0.2882, 0.6331, 0.7688, 0.8819, 0.6850, 0.7690],\n",
      "        [0.1684, 0.6854, 1.7802, 1.1283, 1.0645, 1.0189],\n",
      "        [0.8364, 0.3968, 0.5083, 1.3618, 1.2501, 1.5429]])\n"
     ]
    }
   ],
   "source": [
    "a4=torch.rand(4,6)\n",
    "print(a4)\n",
    "print(x+a4)"
   ]
  },
  {
   "cell_type": "markdown",
   "id": "2bf1b4ac",
   "metadata": {},
   "source": [
    "#### 方法二：torch.add"
   ]
  },
  {
   "cell_type": "code",
   "execution_count": 16,
   "id": "b52d3a59",
   "metadata": {},
   "outputs": [
    {
     "name": "stdout",
     "output_type": "stream",
     "text": [
      "tensor([[0.5971, 1.0548, 1.0911, 0.5750, 0.4528, 1.2703],\n",
      "        [0.2882, 0.6331, 0.7688, 0.8819, 0.6850, 0.7690],\n",
      "        [0.1684, 0.6854, 1.7802, 1.1283, 1.0645, 1.0189],\n",
      "        [0.8364, 0.3968, 0.5083, 1.3618, 1.2501, 1.5429]])\n"
     ]
    }
   ],
   "source": [
    "print(torch.add(x,a4))"
   ]
  },
  {
   "cell_type": "markdown",
   "id": "11329c4e",
   "metadata": {},
   "source": [
    "#### 方法三：创建空张量，用torch.add利用out输出"
   ]
  },
  {
   "cell_type": "code",
   "execution_count": 17,
   "id": "46b7699a",
   "metadata": {},
   "outputs": [
    {
     "name": "stdout",
     "output_type": "stream",
     "text": [
      "tensor([[0.5971, 1.0548, 1.0911, 0.5750, 0.4528, 1.2703],\n",
      "        [0.2882, 0.6331, 0.7688, 0.8819, 0.6850, 0.7690],\n",
      "        [0.1684, 0.6854, 1.7802, 1.1283, 1.0645, 1.0189],\n",
      "        [0.8364, 0.3968, 0.5083, 1.3618, 1.2501, 1.5429]])\n"
     ]
    }
   ],
   "source": [
    "result = torch.empty(4,6)\n",
    "torch.add(x,a4,out=result)\n",
    "print(result)"
   ]
  },
  {
   "cell_type": "markdown",
   "id": "fb3cf1a1",
   "metadata": {},
   "source": [
    "#### 方法四：in-place原地置换（in-place类操作记得写下划线，copy，sub等同理）"
   ]
  },
  {
   "cell_type": "code",
   "execution_count": 18,
   "id": "b2be2caa",
   "metadata": {},
   "outputs": [
    {
     "name": "stdout",
     "output_type": "stream",
     "text": [
      "tensor([[0.5971, 1.0548, 1.0911, 0.5750, 0.4528, 1.2703],\n",
      "        [0.2882, 0.6331, 0.7688, 0.8819, 0.6850, 0.7690],\n",
      "        [0.1684, 0.6854, 1.7802, 1.1283, 1.0645, 1.0189],\n",
      "        [0.8364, 0.3968, 0.5083, 1.3618, 1.2501, 1.5429]])\n"
     ]
    }
   ],
   "source": [
    "a4.add_(x)\n",
    "print(a4)"
   ]
  },
  {
   "cell_type": "markdown",
   "id": "247761c9",
   "metadata": {},
   "source": [
    "相当于将x中元素直接加到a4当中，a4值直接发生改变"
   ]
  },
  {
   "cell_type": "markdown",
   "id": "62fbe97f",
   "metadata": {},
   "source": [
    "### 2.用类似Numpy的方式对张量进行切片操作"
   ]
  },
  {
   "cell_type": "code",
   "execution_count": 19,
   "id": "38cee0b4",
   "metadata": {},
   "outputs": [
    {
     "name": "stdout",
     "output_type": "stream",
     "text": [
      "tensor([0.3274, 0.4411, 0.5669, 0.0636])\n"
     ]
    }
   ],
   "source": [
    "print(x[:,1])"
   ]
  },
  {
   "cell_type": "code",
   "execution_count": 20,
   "id": "27539495",
   "metadata": {},
   "outputs": [
    {
     "name": "stdout",
     "output_type": "stream",
     "text": [
      "tensor([[0.5971, 1.0548],\n",
      "        [0.2882, 0.6331],\n",
      "        [0.1684, 0.6854],\n",
      "        [0.8364, 0.3968]])\n"
     ]
    }
   ],
   "source": [
    "print(a4[:,:2])"
   ]
  },
  {
   "cell_type": "markdown",
   "id": "587617f6",
   "metadata": {},
   "source": [
    "### 3.改变张量的形状"
   ]
  },
  {
   "cell_type": "code",
   "execution_count": 21,
   "id": "8ba1e677",
   "metadata": {},
   "outputs": [
    {
     "name": "stdout",
     "output_type": "stream",
     "text": [
      "torch.Size([4, 6]) torch.Size([16]) torch.Size([2, 8])\n"
     ]
    }
   ],
   "source": [
    "a6 = torch.randn(4,4)\n",
    "\n",
    "y = a6.view(16)\n",
    "#view()中只能用可整除的行数/列数进行赋值\n",
    "\n",
    "z = a6.view(-1,8)\n",
    "# -1表示自动匹配\n",
    "\n",
    "print(x.size(),y.size(),z.size())"
   ]
  },
  {
   "cell_type": "markdown",
   "id": "91526b6c",
   "metadata": {},
   "source": [
    "如果张量中只有一个元素，可以用.item()直接取出，作为一个python number"
   ]
  },
  {
   "cell_type": "code",
   "execution_count": 22,
   "id": "66a2002f",
   "metadata": {},
   "outputs": [
    {
     "name": "stdout",
     "output_type": "stream",
     "text": [
      "tensor([2.4618])\n",
      "2.4618215560913086\n"
     ]
    }
   ],
   "source": [
    "a7=torch.randn(1)\n",
    "print(a7)\n",
    "print(a7.item())"
   ]
  },
  {
   "cell_type": "markdown",
   "id": "c81d4bc5",
   "metadata": {},
   "source": [
    "# 三、关于Torch Tensor和Numpy Array之间的互相转换"
   ]
  },
  {
   "cell_type": "markdown",
   "id": "040f5c63",
   "metadata": {},
   "source": [
    "### 1.Torch Tensor和Numpy Array共享底层空间，可互相转换"
   ]
  },
  {
   "cell_type": "code",
   "execution_count": 23,
   "id": "38cb860c",
   "metadata": {},
   "outputs": [
    {
     "name": "stdout",
     "output_type": "stream",
     "text": [
      "tensor([1., 1., 1., 1., 1.])\n"
     ]
    }
   ],
   "source": [
    "a8=torch.ones(5)\n",
    "print(a8)"
   ]
  },
  {
   "cell_type": "code",
   "execution_count": 24,
   "id": "bba57e88",
   "metadata": {},
   "outputs": [
    {
     "name": "stdout",
     "output_type": "stream",
     "text": [
      "[1. 1. 1. 1. 1.]\n"
     ]
    }
   ],
   "source": [
    "b = a8.numpy()\n",
    "print(b)"
   ]
  },
  {
   "cell_type": "markdown",
   "id": "b9c3eb2e",
   "metadata": {},
   "source": [
    "对其中一个做加法，另一个也会改变（注意： a8 与 b 底层存储空间共享）"
   ]
  },
  {
   "cell_type": "code",
   "execution_count": 25,
   "id": "e7d649f2",
   "metadata": {},
   "outputs": [
    {
     "name": "stdout",
     "output_type": "stream",
     "text": [
      "tensor([2., 2., 2., 2., 2.])\n",
      "[2. 2. 2. 2. 2.]\n"
     ]
    }
   ],
   "source": [
    "a8.add_(1)\n",
    "print(a8)\n",
    "print(b)"
   ]
  },
  {
   "cell_type": "markdown",
   "id": "7c07b222",
   "metadata": {},
   "source": [
    "### 2.将Numpy Array转换为Torch Tensor（底层依然共享）"
   ]
  },
  {
   "cell_type": "code",
   "execution_count": 26,
   "id": "c0656691",
   "metadata": {},
   "outputs": [
    {
     "name": "stdout",
     "output_type": "stream",
     "text": [
      "[2. 2. 2. 2. 2.]\n",
      "tensor([2., 2., 2., 2., 2.], dtype=torch.float64)\n"
     ]
    }
   ],
   "source": [
    "import numpy as np\n",
    "a9 = np.ones(5)\n",
    "b = torch.from_numpy(a9)\n",
    "np.add(a9,1, out=a9)\n",
    "print(a9)\n",
    "print(b)"
   ]
  },
  {
   "cell_type": "markdown",
   "id": "757f955c",
   "metadata": {},
   "source": [
    "除了CharTensor之外，剩下的都可以转转"
   ]
  },
  {
   "cell_type": "markdown",
   "id": "af3c5fdb",
   "metadata": {},
   "source": [
    "### 3.关于Cuda Tensor: Tensors可以用.to()方法将其移动到任意设备上"
   ]
  },
  {
   "cell_type": "code",
   "execution_count": 2,
   "id": "19e6a95b",
   "metadata": {},
   "outputs": [],
   "source": [
    "#if torch.cuda.is_available():\n",
    "\n",
    "#    devil = torch.device(\"cuda\")\n",
    "\n",
    "#y= torch.ones_like(x,device = devil)"
   ]
  },
  {
   "cell_type": "code",
   "execution_count": null,
   "id": "e4e3f0aa",
   "metadata": {},
   "outputs": [],
   "source": []
  }
 ],
 "metadata": {
  "kernelspec": {
   "display_name": "Python 3 (ipykernel)",
   "language": "python",
   "name": "python3"
  },
  "language_info": {
   "codemirror_mode": {
    "name": "ipython",
    "version": 3
   },
   "file_extension": ".py",
   "mimetype": "text/x-python",
   "name": "python",
   "nbconvert_exporter": "python",
   "pygments_lexer": "ipython3",
   "version": "3.9.7"
  }
 },
 "nbformat": 4,
 "nbformat_minor": 5
}
